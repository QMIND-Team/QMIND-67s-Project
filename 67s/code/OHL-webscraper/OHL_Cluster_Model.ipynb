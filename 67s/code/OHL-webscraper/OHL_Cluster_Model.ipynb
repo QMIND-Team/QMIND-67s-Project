{
 "cells": [
  {
   "cell_type": "heading",
   "metadata": {
    "collapsed": true
   },
   "level": 1,
   "source": [
    "OHL K-Means Clustering Project\n"
   ]
  },
  {
   "cell_type": "heading",
   "metadata": {
    "collapsed": true
   },
   "level": 2,
   "source": [
    "Start by Importing the neccesary libraries and dataset\n"
   ]
  },
  {
   "cell_type": "code",
   "execution_count": 26,
   "metadata": {
    "collapsed": true
   },
   "outputs": [],
   "source": [
    "import pandas as pd\n",
    "import numpy as np\n",
    "import matplotlib.pyplot as plt\n",
    "from sklearn.cluster import KMeans \n",
    "fulldataset = pd.read_csv('2018-19_OHL_Skaters.csv')\n"
   ]
  },
  {
   "cell_type": "markdown",
   "metadata": {},
   "source": [
    "Now, we will select which columns of the data we would like to keep for the model.\n",
    "\n",
    "We will select Sh%, xG/G, A1/G, HD S (shooting percentage, expected goals per game, primary assists per game and high danger shots)\n",
    "\n",
    "But, first we will remove players who played fewer than 30 games.\n",
    "The original indexes will be kept so that we can find the players' names using the fulldataset dataframe."
   ]
  },
  {
   "cell_type": "code",
   "execution_count": 36,
   "metadata": {},
   "outputs": [],
   "source": [
    "df_over30gp = fulldataset.loc[fulldataset['GP'] > 30]\n",
    "df = df_over30gp.iloc[:, [12,14,20,22]]"
   ]
  },
  {
   "cell_type": "markdown",
   "metadata": {},
   "source": [
    "We will not use the 'Elbow Method' to find the ideal number (k) of clusters. This is done by calculating the WCSS (within cluster\n",
    "squared sum) for k from 1 to 10. The ideal k is the first value for which is there not a significant decrease in WCSS relative to\n",
    "k+1. This is because at this k, the data is \"tight\" but we are not distinuishing between clusters too much."
   ]
  },
  {
   "cell_type": "code",
   "execution_count": 40,
   "metadata": {},
   "outputs": [
    {
     "data": {
      "image/png": "[encoded data removed]",
      "text/plain": [
       "<Figure size 432x288 with 1 Axes>"
      ]
     },
     "metadata": {},
     "output_type": "display_data"
    }
   ],
   "source": [
    "wcss = []    \n",
    "for i in range (1,11):\n",
    "    kmeans = KMeans(n_clusters = i, init = 'k-means++', max_iter = 300, n_init = 10)\n",
    "    kmeans.fit(df)\n",
    "    wcss.append(kmeans.inertia_)\n",
    "plt.plot(range(1,11),wcss)\n",
    "plt.title('Number of clusters')\n",
    "plt.ylabel('WCSS')\n",
    "plt.show()\n"
   ]
  },
  {
   "cell_type": "markdown",
   "metadata": {},
   "source": [
    "Based on the above graph, it is apparent that either 3 or 4 clusters should be created. Let's first try with three."
   ]
  },
  {
   "cell_type": "code",
   "execution_count": 46,
   "metadata": {},
   "outputs": [
    {
     "data": {
      "text/plain": [
       "array([1, 1, 1, 1, 1, 1, 0, 1, 1, 1, 1, 0, 1, 0, 1, 1, 1, 1, 1, 1, 1, 1,\n       1, 1, 1, 1, 1, 1, 1, 0, 1, 1, 0, 0, 0, 1, 1, 1, 1, 1, 0, 0, 0, 1,\n       0, 0, 2, 0, 1, 0, 0, 1, 1, 2, 1, 1, 1, 0, 1, 1, 0, 0, 1, 1, 2, 0,\n       0, 0, 1, 0, 1, 0, 0, 0, 1, 0, 0, 0, 0, 0, 0, 1, 1, 2, 0, 0, 0, 1,\n       0, 1, 2, 0, 2, 2, 1, 1, 0, 2, 2, 0, 0, 1, 0, 0, 1, 0, 0, 2, 0, 1,\n       0, 1, 0, 0, 0, 0, 2, 1, 0, 0, 0, 0, 0, 0, 0, 0, 0, 0, 0, 0, 2, 0,\n       0, 0, 0, 2, 2, 0, 2, 0, 0, 0, 0, 2, 2, 0, 0, 0, 0, 0, 0, 2, 2, 2,\n       2, 0, 0, 0, 0, 0, 0, 1, 0, 2, 0, 0, 2, 0, 0, 0, 0, 2, 0, 0, 0, 2,\n       2, 2, 0, 2, 1, 0, 0, 0, 2, 0, 2, 2, 2, 0, 0, 2, 2, 2, 2, 0, 0, 0,\n       2, 2, 0, 2, 2, 0, 0, 0, 0, 0, 2, 2, 2, 0, 0, 0, 2, 0, 0, 0, 2, 2,\n       2, 2, 2, 2, 0, 0, 2, 2, 0, 2, 2, 2, 2, 2, 0, 0, 2, 2, 2, 0, 2, 2,\n       0, 2, 2, 2, 2, 2, 2, 2, 2, 2, 2, 2, 0, 2, 0, 2, 2, 2, 0, 2, 2, 2,\n       2, 0, 2, 2, 2, 2, 2, 2, 2, 0, 2, 2, 2, 0, 2, 2, 0, 2, 2, 2, 0, 2,\n       2, 2, 2, 0, 2, 2, 2, 2, 2, 2, 2, 2, 2, 2, 2, 2, 2, 2, 2, 0, 2, 2,\n       2, 2, 2, 2, 2, 2, 2, 2, 2, 0, 2, 2, 2, 2, 2, 2, 2, 2, 2, 2, 2, 2,\n       2, 2, 2, 2, 2, 2, 2, 2, 2, 2, 2, 2, 2, 2, 2, 2, 2, 2, 2, 2, 2, 2,\n       2, 2, 2, 2, 2, 2, 2, 2, 2, 2, 2, 2, 2, 2, 2, 2, 2, 2, 2, 2])"
      ]
     },
     "execution_count": 46,
     "metadata": {},
     "output_type": "execute_result"
    }
   ],
   "source": [
    "kmeans = KMeans(n_clusters = 3, init = 'k-means++', max_iter = 300, n_init=10, random_state = 0)\n",
    "y_kmeans3 = kmeans.fit_predict(df)\n",
    "y_kmeans3"
   ]
  },
  {
   "cell_type": "markdown",
   "metadata": {},
   "source": [
    "Now, let's try again with k = 4."
   ]
  },
  {
   "cell_type": "code",
   "execution_count": 47,
   "metadata": {},
   "outputs": [
    {
     "data": {
      "text/plain": [
       "array([0, 2, 2, 0, 0, 2, 0, 2, 2, 0, 2, 0, 0, 0, 2, 0, 2, 0, 0, 0, 2, 2,\n       0, 2, 2, 2, 0, 2, 0, 0, 0, 0, 0, 0, 0, 0, 0, 0, 2, 2, 3, 3, 0, 2,\n       0, 0, 1, 0, 0, 0, 0, 0, 2, 1, 0, 0, 0, 0, 0, 0, 3, 3, 0, 0, 1, 3,\n       3, 3, 2, 0, 2, 3, 0, 3, 2, 0, 0, 3, 0, 0, 0, 0, 0, 3, 3, 3, 3, 2,\n       0, 0, 3, 0, 1, 3, 0, 2, 0, 1, 1, 0, 0, 0, 0, 3, 0, 0, 0, 1, 3, 0,\n       3, 0, 3, 0, 3, 0, 1, 0, 0, 0, 3, 3, 0, 3, 3, 0, 3, 3, 0, 0, 1, 0,\n       3, 3, 3, 1, 1, 0, 3, 3, 0, 3, 3, 1, 3, 3, 0, 0, 0, 3, 3, 3, 1, 1,\n       1, 0, 3, 0, 3, 3, 3, 0, 0, 1, 0, 3, 1, 3, 0, 0, 0, 1, 0, 3, 3, 1,\n       3, 1, 3, 1, 2, 3, 3, 3, 1, 0, 1, 1, 1, 3, 3, 1, 1, 1, 1, 0, 3, 3,\n       1, 1, 3, 1, 1, 3, 0, 3, 3, 3, 1, 1, 1, 3, 3, 3, 3, 3, 3, 3, 1, 1,\n       3, 1, 1, 1, 3, 3, 1, 1, 3, 1, 1, 1, 1, 1, 0, 3, 1, 1, 1, 3, 1, 3,\n       3, 1, 1, 1, 1, 1, 1, 1, 1, 1, 1, 3, 3, 1, 0, 1, 3, 1, 3, 3, 1, 1,\n       1, 3, 1, 1, 1, 1, 1, 1, 1, 3, 1, 1, 1, 3, 1, 1, 0, 3, 1, 1, 3, 1,\n       1, 1, 1, 3, 3, 1, 3, 1, 1, 1, 1, 3, 1, 1, 1, 1, 1, 1, 3, 3, 1, 1,\n       1, 1, 1, 1, 1, 1, 1, 1, 1, 3, 1, 1, 3, 1, 1, 1, 3, 1, 1, 3, 3, 1,\n       1, 1, 1, 1, 1, 3, 3, 1, 1, 1, 1, 1, 1, 1, 1, 1, 1, 1, 1, 3, 1, 1,\n       1, 1, 1, 1, 1, 1, 1, 1, 1, 1, 1, 1, 1, 1, 1, 1, 1, 1, 1, 1])"
      ]
     },
     "execution_count": 47,
     "metadata": {},
     "output_type": "execute_result"
    }
   ],
   "source": [
    "kmeans = KMeans(n_clusters = 4, init = 'k-means++', max_iter = 300, n_init=10, random_state = 0)\n",
    "y_kmeans4 = kmeans.fit_predict(df)\n",
    "y_kmeans4\n"
   ]
  },
  {
   "cell_type": "code",
   "execution_count": null,
   "metadata": {},
   "outputs": [],
   "source": []
  }
 ],
 "metadata": {
  "kernelspec": {
   "display_name": "Python 2",
   "language": "python",
   "name": "python2"
  },
  "language_info": {
   "codemirror_mode": {
    "name": "ipython",
    "version": 2
   },
   "file_extension": ".py",
   "mimetype": "text/x-python",
   "name": "python",
   "nbconvert_exporter": "python",
   "pygments_lexer": "ipython2",
   "version": "2.7.6"
  }
 },
 "nbformat": 4,
 "nbformat_minor": 0
}
