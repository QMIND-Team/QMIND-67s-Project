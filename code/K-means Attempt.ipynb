{
 "cells": [
  {
   "cell_type": "code",
   "execution_count": null,
   "metadata": {},
   "outputs": [],
   "source": [
    "import pandas as pd\n",
    "import numpy as np\n",
    "import seaborn as sns\n",
    "import matplotlib.pyplot as plt\n",
    "from sklearn.cluster import KMeans\n",
    "from sklearn import preprocessing"
   ]
  },
  {
   "cell_type": "code",
   "execution_count": null,
   "metadata": {},
   "outputs": [],
   "source": [
    "#cleaning data\n",
    "df = pd.read_csv('2017-18 OHL Skaters.csv')\n",
    "df = df.drop(columns=['#'])\n",
    "stats = ['G/GP','A1/GP','A2/GP','P/GP','Sh/GP']\n",
    "\n",
    "#min games played\n",
    "df = df[df.GP >= 30]\n",
    "\n",
    "df.head(5)"
   ]
  },
  {
   "cell_type": "code",
   "execution_count": null,
   "metadata": {},
   "outputs": [],
   "source": [
    "# clustering algorithm\n",
    "k_means = KMeans(init='k-means++', n_clusters=8, n_init=100)\n",
    "k_means.fit(preprocessing.scale(df[stats]))"
   ]
  },
  {
   "cell_type": "code",
   "execution_count": null,
   "metadata": {},
   "outputs": [],
   "source": [
    "# add cluster to df\n",
    "df['cluster'] = k_means.labels_\n",
    "\n",
    "# get cluster centroids\n",
    "centers = k_means.cluster_centers_\n",
    "center_df = pd.DataFrame(centers, columns=stats)\n",
    "\n",
    "# get the mean values for each stat\n",
    "means = []\n",
    "for col in range(centers.shape[1]):\n",
    "    means.append(centers[:,col].mean())\n",
    "\n",
    "# find values relative to mean\n",
    "rel_values = centers - np.array(means)\n",
    "rel_df = pd.DataFrame(rel_values, columns=stats)\n",
    "\n",
    "center_df.head(5)"
   ]
  },
  {
   "cell_type": "code",
   "execution_count": null,
   "metadata": {},
   "outputs": [],
   "source": [
    "# print results\n",
    "print(\"\\nK-Means Clustering of OHL Players:\\n\")\n",
    "for i in range(0,len(df.cluster.value_counts())):\n",
    "    print('Group:', i)\n",
    "    print('{stat:11}{val:7}{rank}'.format(stat='Stat', val='Value', rank='Rank'))\n",
    "    for j in range(len(stats)):\n",
    "        print('{stat:8}: {val:6.2f}  ({rank:.0f}/{of})'.format(stat=stats[j],\n",
    "                                         rank=rel_df.rank(ascending=False).iloc[i].values[j],\n",
    "                                         val=rel_df.iloc[i].values[j],\n",
    "                                         of=len(rel_df)))\n",
    "    print('\\nTypical players:')\n",
    "    for j in range(5):\n",
    "        print('-',df[df.cluster==i]['Name'].head().values[j])\n",
    "    print('--------------------\\n')"
   ]
  },
  {
   "cell_type": "markdown",
   "metadata": {},
   "source": [
    "Next Steps:\n",
    "1. figure out how to sort by distance from centroid and list those players, right now its just random\n",
    "2. plug in better data, right now it's just point production related\n",
    "3. make two models for forwards vs defencement\n",
    "4. Make model using NHL data for CUC"
   ]
  },
  {
   "cell_type": "code",
   "execution_count": null,
   "metadata": {},
   "outputs": [],
   "source": []
  }
 ],
 "metadata": {
  "kernelspec": {
   "display_name": "Python 3",
   "language": "python",
   "name": "python3"
  },
  "language_info": {
   "codemirror_mode": {
    "name": "ipython",
    "version": 3
   },
   "file_extension": ".py",
   "mimetype": "text/x-python",
   "name": "python",
   "nbconvert_exporter": "python",
   "pygments_lexer": "ipython3",
   "version": "3.6.5"
  }
 },
 "nbformat": 4,
 "nbformat_minor": 2
}
