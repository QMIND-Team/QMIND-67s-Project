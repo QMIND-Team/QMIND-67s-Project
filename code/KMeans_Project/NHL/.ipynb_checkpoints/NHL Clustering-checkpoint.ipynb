{
 "cells": [
  {
   "cell_type": "code",
   "execution_count": null,
   "metadata": {},
   "outputs": [],
   "source": [
    "import pandas as pd\n",
    "import numpy as np\n",
    "import seaborn as sns\n",
    "import matplotlib.pyplot as plt\n",
    "from sklearn.cluster import KMeans\n",
    "from sklearn import preprocessing\n",
    "from sklearn.decomposition import PCA"
   ]
  },
  {
   "cell_type": "code",
   "execution_count": null,
   "metadata": {},
   "outputs": [],
   "source": [
    "#cleaning data\n",
    "df = pd.read_csv('NHL 2017-2018.csv')\n",
    "df.head(5)\n",
    "df = df.drop(columns=['Unnamed: 0'])\n",
    "\n",
    "#min games played\n",
    "df = df[df.GP >= 40]\n",
    "\n",
    "df.head()"
   ]
  },
  {
   "cell_type": "code",
   "execution_count": null,
   "metadata": {},
   "outputs": [],
   "source": [
    "#new dataframe\n",
    "avg_df = df[['Player','Team','Position','GP','Goals','Total Assists','Shots',\n",
    "             'Rebounds Created','Penalties Drawn','Takeaways','Hits','Shots Blocked',]].copy()\n",
    "\n",
    "#renaming\n",
    "avg_df.rename(columns={'Total Assists':'Assists'}, inplace=True)\n",
    "avg_df.rename(columns={'Rebounds Created':'Rebounds'}, inplace=True)\n",
    "avg_df.rename(columns={'Penalties Drawn':'Drawn'}, inplace=True)\n",
    "avg_df.rename(columns={'Shots Blocked':'Blocks'}, inplace=True)\n",
    "\n",
    "#stats you want to cluster by\n",
    "stats = ['Goals','Assists','Shots','Rebounds','Drawn','Takeaways','Hits','Blocks']\n",
    "\n",
    "avg_df.head()"
   ]
  },
  {
   "cell_type": "code",
   "execution_count": null,
   "metadata": {},
   "outputs": [],
   "source": [
    "#averaging stats\n",
    "for stat in stats:\n",
    "    avg_df[str(stat)+'/GP'] = avg_df[stat]/avg_df['GP']\n",
    "    \n",
    "avg_df.head()"
   ]
  },
  {
   "cell_type": "code",
   "execution_count": null,
   "metadata": {},
   "outputs": [],
   "source": [
    "# clustering algorithm\n",
    "k_means = KMeans(init='k-means++', n_clusters=6, n_init=100)\n",
    "k_means.fit(preprocessing.scale(avg_df[stats]))"
   ]
  },
  {
   "cell_type": "code",
   "execution_count": null,
   "metadata": {},
   "outputs": [],
   "source": [
    "# add cluster to df\n",
    "avg_df['cluster'] = k_means.labels_\n",
    "\n",
    "# get cluster centroids\n",
    "centers = k_means.cluster_centers_\n",
    "center_df = pd.DataFrame(centers, columns=stats)\n",
    "\n",
    "# get the mean values for each stat\n",
    "means = []\n",
    "for col in range(centers.shape[1]):\n",
    "    means.append(centers[:,col].mean())\n",
    "\n",
    "# find values relative to mean\n",
    "rel_values = centers - np.array(means)\n",
    "rel_df = pd.DataFrame(rel_values, columns=stats)"
   ]
  },
  {
   "cell_type": "code",
   "execution_count": null,
   "metadata": {},
   "outputs": [],
   "source": [
    "# print results\n",
    "print(\"\\nK-Means Clustering of NHL Players:\\n\")\n",
    "for i in range(0,len(avg_df.cluster.value_counts())):\n",
    "    print('Group:', i)\n",
    "    print('{stat:13}{val:7}{rank}'.format(stat='Stat/GP', val='Value', rank='Rank'))\n",
    "    for j in range(len(stats)):\n",
    "        print('{stat:10}: {val:6.2f}  ({rank:.0f}/{of})'.format(stat=stats[j],\n",
    "                                         rank=rel_df.rank(ascending=False).iloc[i].values[j],\n",
    "                                         val=rel_df.iloc[i].values[j],\n",
    "                                         of=len(rel_df)))\n",
    "    print('\\nTypical players:')\n",
    "    for j in range(5):\n",
    "        print('-',avg_df[avg_df.cluster==i]['Player'].head().values[j])\n",
    "    print('--------------------\\n')"
   ]
  },
  {
   "cell_type": "code",
   "execution_count": null,
   "metadata": {},
   "outputs": [],
   "source": [
    "#dimenional reduction and scatterplot\n",
    "pca = PCA(n_components=2)\n",
    "cluster_data_2d = pca.fit_transform(avg_df[stats])\n",
    "explained_variance = pca.explained_variance_ratio_\n",
    "cluster_data_2d = pd.DataFrame(cluster_data_2d)\n",
    "y_kmeans = pd.DataFrame(k_means.labels_)\n",
    "cluster_data_2d = pd.concat([cluster_data_2d, y_kmeans], axis = 1)\n",
    "cluster_data_2d.columns = ['PCA 1', 'PCA 2', 'Cluster']\n",
    "\n",
    "cluster0 = cluster_data_2d[cluster_data_2d['Cluster'] == 0]\n",
    "cluster1 = cluster_data_2d[cluster_data_2d['Cluster'] == 1]\n",
    "cluster2 = cluster_data_2d[cluster_data_2d['Cluster'] == 2]\n",
    "cluster3 = cluster_data_2d[cluster_data_2d['Cluster'] == 3]\n",
    "cluster4 = cluster_data_2d[cluster_data_2d['Cluster'] == 4]\n",
    "cluster5 = cluster_data_2d[cluster_data_2d['Cluster'] == 5]\n",
    "\n",
    "plt.scatter(cluster0.iloc[:, 0], cluster0.iloc[:,1], s = 10, c = 'red', label = 'Cluster 0')\n",
    "plt.scatter(cluster1.iloc[:, 0], cluster1.iloc[:,1], s = 10, c = 'green', label = 'Cluster 1')\n",
    "plt.scatter(cluster2.iloc[:, 0], cluster2.iloc[:,1], s = 10, c = 'blue', label = 'Cluster 2')\n",
    "plt.scatter(cluster3.iloc[:, 0], cluster3.iloc[:,1], s = 10, c = 'yellow', label = 'Cluster 3')\n",
    "plt.scatter(cluster4.iloc[:, 0], cluster4.iloc[:,1], s = 10, c = 'purple', label = 'Cluster 4')\n",
    "plt.scatter(cluster5.iloc[:, 0], cluster5.iloc[:,1], s = 10, c = 'orange', label = 'Cluster 5')\n",
    "plt.xlabel('PCA 1')\n",
    "plt.ylabel('PCA 2')\n",
    "plt.title('NHL Player Style Clusters')\n",
    "plt.legend()\n",
    "plt.show()"
   ]
  },
  {
   "cell_type": "code",
   "execution_count": null,
   "metadata": {},
   "outputs": [],
   "source": []
  },
  {
   "cell_type": "code",
   "execution_count": null,
   "metadata": {},
   "outputs": [],
   "source": []
  }
 ],
 "metadata": {
  "kernelspec": {
   "display_name": "Python 3",
   "language": "python",
   "name": "python3"
  },
  "language_info": {
   "codemirror_mode": {
    "name": "ipython",
    "version": 3
   },
   "file_extension": ".py",
   "mimetype": "text/x-python",
   "name": "python",
   "nbconvert_exporter": "python",
   "pygments_lexer": "ipython3",
   "version": "3.6.5"
  }
 },
 "nbformat": 4,
 "nbformat_minor": 2
}
