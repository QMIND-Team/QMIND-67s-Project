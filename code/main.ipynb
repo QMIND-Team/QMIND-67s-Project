{
 "cells": [
  {
   "cell_type": "markdown",
   "metadata": {},
   "source": [
    "Ottawa 67's Project Rebound Classifier\n",
    "\n",
    "Description: "
   ]
  },
  {
   "cell_type": "markdown",
   "metadata": {},
   "source": [
    "We first need to import the required dependencies and will do this below."
   ]
  },
  {
   "cell_type": "code",
   "execution_count": null,
   "metadata": {},
   "outputs": [],
   "source": [
    "from Rebounds import classify_rebounds\n",
    "import pandas as pd\n",
    "pd.set_option('display.max_columns', 500)\n"
   ]
  },
  {
   "cell_type": "markdown",
   "metadata": {},
   "source": [
    "We are working with a dataset given from the Ottawa 67's Hockey club and will run some data manipulation and visualization techniques on it to get a better understanding of what we have. First I will import it into a pandas dataframe and run some basic description functions."
   ]
  },
  {
   "cell_type": "code",
   "execution_count": null,
   "metadata": {},
   "outputs": [],
   "source": [
    "shot_df = pd.read_csv('Ottawa67sShotData.csv')\n",
    "shot_df.describe(include='all')"
   ]
  },
  {
   "cell_type": "markdown",
   "metadata": {},
   "source": [
    "Right away we notice some interesting things. There is a total of 6621 shot attempts in our dataframe. We can see that there are 58 unique game dates implying that out dataset contains shots from 58 games. What is interesting and something we will explore later on in this notebook is that there are 2315 shot attempts that created a rebound and only 283 shots after a rebound. Another useful row is the \"top\" row. We can see that, as expected the Ottawa 67's have the most shot attempts (as this is data from only their games). Also that most shot attempts occur on 5-5, coming from forwards, after having O-zone pressure and being taken from the perimeter of the ice. These are interesting insights that we will use later on in our analysis."
   ]
  },
  {
   "cell_type": "code",
   "execution_count": null,
   "metadata": {},
   "outputs": [],
   "source": [
    "shot_df.head()"
   ]
  },
  {
   "cell_type": "code",
   "execution_count": null,
   "metadata": {},
   "outputs": [],
   "source": [
    "rebound_df = shot_df[(shot_df['after rebound'] =='yes')]\n",
    "rebounds_df = rebound_df.reset_index(drop=True)\n",
    "rebounds_df.plot(y = 'xG', use_index=True, style='o')\n"
   ]
  },
  {
   "cell_type": "code",
   "execution_count": null,
   "metadata": {},
   "outputs": [],
   "source": [
    "num_df = rebounds_df.replace('yes', 1)\n",
    "num_df['location'].value_counts()"
   ]
  },
  {
   "cell_type": "markdown",
   "metadata": {},
   "source": [
    "Looking strictly at the rebound data, we notice that the \"expected goal\" value is more than doubled. We also notice that the percentages for rebounds on the powerplay and penalty kill mirrors the percentages for total shots on the powerplay and penalty kill."
   ]
  },
  {
   "cell_type": "code",
   "execution_count": null,
   "metadata": {},
   "outputs": [],
   "source": [
    "numerical_df.describe()"
   ]
  },
  {
   "cell_type": "code",
   "execution_count": null,
   "metadata": {},
   "outputs": [],
   "source": []
  }
 ],
 "metadata": {
  "kernelspec": {
   "display_name": "Python 3",
   "language": "python",
   "name": "python3"
  },
  "language_info": {
   "codemirror_mode": {
    "name": "ipython",
    "version": 3
   },
   "file_extension": ".py",
   "mimetype": "text/x-python",
   "name": "python",
   "nbconvert_exporter": "python",
   "pygments_lexer": "ipython3",
   "version": "3.6.6"
  }
 },
 "nbformat": 4,
 "nbformat_minor": 1
}
