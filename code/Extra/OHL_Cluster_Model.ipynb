{
 "cells": [
  {
   "cell_type": "heading",
   "level": 1,
   "metadata": {},
   "source": [
    "OHL K-Means Clustering Project\n"
   ]
  },
  {
   "cell_type": "heading",
   "level": 2,
   "metadata": {},
   "source": [
    "Start by Importing the neccesary libraries and dataset\n"
   ]
  },
  {
   "cell_type": "code",
   "execution_count": null,
   "metadata": {},
   "outputs": [],
   "source": [
    "import pandas as pd\n",
    "import numpy as np\n",
    "import matplotlib.pyplot as plt\n",
    "from sklearn.cluster import KMeans \n",
    "fulldataset = pd.read_csv('2018-19_OHL_Skaters.csv')\n",
    "\n"
   ]
  },
  {
   "cell_type": "markdown",
   "metadata": {},
   "source": [
    "Now, we will select which columns of the data we would like to keep for the model.\n",
    "\n",
    "We will select Sh%, xG/G, A1/G, HD S (shooting percentage, expected goals per game, primary assists per game and high danger shots)\n",
    "\n",
    "But, first we will remove players who played fewer than 30 games.\n",
    "The original indexes will be kept so that we can find the players' names using the fulldataset dataframe."
   ]
  },
  {
   "cell_type": "code",
   "execution_count": null,
   "metadata": {},
   "outputs": [],
   "source": [
    "df_over30gpoldindex = fulldataset.loc[fulldataset['GP'] > 30]\n",
    "df_over30gp = df_over30gpoldindex.reset_index(drop = True)\n",
    "df_withname = df_over30gp.loc[:, ['Name','Team','Sh%','A1/GP','xG/GP','HD Sh']]\n",
    "df = df_withname.iloc[:,2:]\n",
    "df_withname"
   ]
  },
  {
   "cell_type": "markdown",
   "metadata": {},
   "source": [
    "We will not use the 'Elbow Method' to find the ideal number (k) of clusters. This is done by calculating the WCSS (within cluster\n",
    "squared sum) for k from 1 to 10. The ideal k is the first value for which is there not a significant decrease in WCSS relative to\n",
    "k+1. This is because at this k, the data is \"tight\" but we are not distinuishing between clusters too much."
   ]
  },
  {
   "cell_type": "code",
   "execution_count": null,
   "metadata": {},
   "outputs": [],
   "source": [
    "wcss = []    \n",
    "for i in range (1,11):\n",
    "    kmeans = KMeans(n_clusters = i, init = 'k-means++', max_iter = 300, n_init = 10)\n",
    "    kmeans.fit(df)\n",
    "    wcss.append(kmeans.inertia_)\n",
    "plt.plot(range(1,11),wcss)\n",
    "plt.title('Number of clusters')\n",
    "plt.ylabel('WCSS')\n",
    "plt.show()\n"
   ]
  },
  {
   "cell_type": "markdown",
   "metadata": {},
   "source": [
    "Based on the above graph, it is apparent that either 3 or 4 clusters should be created. Let's first try with three."
   ]
  },
  {
   "cell_type": "code",
   "execution_count": null,
   "metadata": {},
   "outputs": [],
   "source": [
    "kmeans = KMeans(n_clusters = 3, init = 'k-means++', max_iter = 300, n_init=10, random_state = 0)\n",
    "y_kmeans3 = kmeans.fit_predict(df)\n",
    "\n"
   ]
  },
  {
   "cell_type": "code",
   "execution_count": null,
   "metadata": {},
   "outputs": [],
   "source": [
    "y_kmeans3df = pd.DataFrame(y_kmeans3)\n",
    "cluster3df = pd.concat([df_withname.iloc[:,0:2], df, y_kmeans3df], axis = 1)\n",
    "cluster3df.columns = ['Name','Team','Sh%', 'A1/GP', 'xG/GP', 'HD Sh', 'Cluster']\n",
    "cluster3df\n",
    "\n",
    "# update the indexes for the df being used, and in the fulldataset with games > 30"
   ]
  },
  {
   "cell_type": "markdown",
   "metadata": {},
   "source": [
    "Now, let's try again with k = 4."
   ]
  },
  {
   "cell_type": "code",
   "execution_count": null,
   "metadata": {},
   "outputs": [],
   "source": [
    "kmeans = KMeans(n_clusters = 4, init = 'k-means++', max_iter = 300, n_init=10, random_state = 0)\n",
    "y_kmeans4 = kmeans.fit_predict(df)\n",
    "y_kmeans4df = pd.DataFrame(y_kmeans4)\n",
    "cluster4df = pd.concat([df_withname.iloc[:,0:2], df, y_kmeans4df], axis = 1)\n",
    "cluster4df.columns = ['Name','Team','Sh%', 'A1/GP', 'xG/GP', 'HD Sh', 'Cluster']\n",
    "cluster4df\n",
    "\n",
    "\n"
   ]
  },
  {
   "cell_type": "markdown",
   "metadata": {},
   "source": [
    "Now, let's make a dataframe with the cluster of the Ottawa 67s."
   ]
  },
  {
   "cell_type": "code",
   "execution_count": null,
   "metadata": {},
   "outputs": [],
   "source": [
    "ott67s = cluster4df[cluster4df['Team']=='OTT']\n",
    "ott67s"
   ]
  },
  {
   "cell_type": "code",
   "execution_count": null,
   "metadata": {},
   "outputs": [],
   "source": []
  },
  {
   "cell_type": "code",
   "execution_count": null,
   "metadata": {},
   "outputs": [],
   "source": []
  },
  {
   "cell_type": "code",
   "execution_count": null,
   "metadata": {},
   "outputs": [],
   "source": []
  },
  {
   "cell_type": "code",
   "execution_count": null,
   "metadata": {},
   "outputs": [],
   "source": []
  },
  {
   "cell_type": "code",
   "execution_count": null,
   "metadata": {},
   "outputs": [],
   "source": []
  }
 ],
 "metadata": {
  "kernelspec": {
   "display_name": "Python 2",
   "language": "python",
   "name": "python2"
  },
  "language_info": {
   "codemirror_mode": {
    "name": "ipython",
    "version": 2
   },
   "file_extension": ".py",
   "mimetype": "text/x-python",
   "name": "python",
   "nbconvert_exporter": "python",
   "pygments_lexer": "ipython2",
   "version": "2.7.6"
  }
 },
 "nbformat": 4,
 "nbformat_minor": 0
}
